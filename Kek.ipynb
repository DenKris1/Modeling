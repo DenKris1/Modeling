{
 "cells": [
  {
   "cell_type": "markdown",
   "metadata": {
    "id": "11aJuEuMQL0I"
   },
   "source": [
    "# Простое задание, которое проверяет понимание использования базовых возможностей языка\n",
    "\n",
    "## Записывайте код в доступные ячейки, чтобы выполнить код в ячейках, нажмите кнопку выполнить (треугольник) либо сочетание клавиш (ctrl+enter)"
   ]
  },
  {
   "cell_type": "markdown",
   "metadata": {
    "id": "GIuWYxY5QX3q"
   },
   "source": [
    "## Типы объектов Python"
   ]
  },
  {
   "cell_type": "markdown",
   "metadata": {
    "id": "M7dHd4ume0ES"
   },
   "source": [
    "В двух урнах находится соответственно 4 и 5 белых и 6 и 3 чёрных шаров. Наудачу выбирается одна урна и из неё наугад извлекается шар. Какова вероятность того, что этот шар чёрный? (подсказка: используйте формулу полной вероятности и с помощью арифметических операторов расчитайте результат)"
   ]
  },
  {
   "cell_type": "code",
   "execution_count": null,
   "metadata": {
    "id": "4NgWfNAdoOX4"
   },
   "outputs": [],
   "source": [
    "first_black = 6\n",
    "first_white = 4\n",
    "second_black = 3\n",
    "second_white = 5\n"
   ]
  },
  {
   "cell_type": "code",
   "execution_count": null,
   "metadata": {},
   "outputs": [],
   "source": []
  },
  {
   "cell_type": "code",
   "execution_count": null,
   "metadata": {
    "colab": {
     "base_uri": "https://localhost:8080/"
    },
    "id": "E7bWQLEgRu87",
    "outputId": "b38c773c-069f-4fcf-dbca-8bdc732773bc"
   },
   "outputs": [
    {
     "data": {
      "text/plain": [
       "0.5125"
      ]
     },
     "execution_count": 7,
     "metadata": {},
     "output_type": "execute_result"
    }
   ],
   "source": []
  },
  {
   "cell_type": "code",
   "execution_count": null,
   "metadata": {
    "id": "j7AzP6TWrk9z"
   },
   "outputs": [],
   "source": []
  },
  {
   "cell_type": "markdown",
   "metadata": {
    "id": "i96RHUJGqisQ"
   },
   "source": [
    "Подсчитайте расстояние между точками 1 и 2 с координатами (x1, y1) и (x2, y2)"
   ]
  },
  {
   "cell_type": "code",
   "execution_count": null,
   "metadata": {
    "id": "hpyzhBQ2qi1L"
   },
   "outputs": [],
   "source": [
    "x1=1\n",
    "x2=5\n",
    "y1=3\n",
    "y2=10\n",
    "\n"
   ]
  },
  {
   "cell_type": "code",
   "execution_count": null,
   "metadata": {
    "id": "lSXN0WAVRyqh"
   },
   "outputs": [],
   "source": []
  },
  {
   "cell_type": "markdown",
   "metadata": {
    "id": "tsvV1UWYQ4HO"
   },
   "source": [
    "Запишите фразу\n",
    "`We interrupt this program to annoy you and make things generally more irritating`\n",
    "\n",
    "в переменную и выведите число символов, которые в ней содержатся"
   ]
  },
  {
   "cell_type": "code",
   "execution_count": null,
   "metadata": {
    "colab": {
     "base_uri": "https://localhost:8080/"
    },
    "id": "yIQRqdcNXRZc",
    "outputId": "f496b2fe-8cfd-480a-866b-3b96db0234c2"
   },
   "outputs": [
    {
     "name": "stdout",
     "output_type": "stream",
     "text": [
      "82\n"
     ]
    }
   ],
   "source": []
  },
  {
   "cell_type": "markdown",
   "metadata": {
    "id": "vDyUMWLqXPHR"
   },
   "source": [
    "Подсчитайте число слов в этой же фразе\n"
   ]
  },
  {
   "cell_type": "code",
   "execution_count": null,
   "metadata": {
    "id": "Mu5Kp-SL-C3y"
   },
   "outputs": [],
   "source": []
  },
  {
   "cell_type": "code",
   "execution_count": null,
   "metadata": {
    "colab": {
     "base_uri": "https://localhost:8080/"
    },
    "id": "C0WbLKRr9wXq",
    "outputId": "27da0fb0-359d-4ece-db4b-313a7d986ad9"
   },
   "outputs": [
    {
     "data": {
      "text/plain": [
       "['',\n",
       " 'We',\n",
       " 'interrupt',\n",
       " 'this',\n",
       " 'program',\n",
       " 'to',\n",
       " 'annoy',\n",
       " 'you',\n",
       " 'and',\n",
       " 'make',\n",
       " 'things',\n",
       " 'generally',\n",
       " 'more',\n",
       " 'irritating',\n",
       " '']"
      ]
     },
     "execution_count": 47,
     "metadata": {},
     "output_type": "execute_result"
    }
   ],
   "source": []
  },
  {
   "cell_type": "code",
   "execution_count": null,
   "metadata": {
    "colab": {
     "base_uri": "https://localhost:8080/"
    },
    "id": "TOZXob4nP5D0",
    "outputId": "a4525afe-fea5-4e61-e188-8e25be57d157"
   },
   "outputs": [
    {
     "name": "stdout",
     "output_type": "stream",
     "text": [
      "15\n"
     ]
    }
   ],
   "source": []
  },
  {
   "cell_type": "markdown",
   "metadata": {
    "id": "ZtT5F5fiizh3"
   },
   "source": [
    "Разделите эту фразу по пробелам на список строк и объедините эти слова назад в строку но вместо пробела используйте символ '`_`'"
   ]
  },
  {
   "cell_type": "code",
   "execution_count": null,
   "metadata": {
    "id": "f7oTeTbJR1As"
   },
   "outputs": [],
   "source": []
  },
  {
   "cell_type": "markdown",
   "metadata": {
    "id": "JMo8O4sdwWFX"
   },
   "source": [
    "Имеется последовательность кодирующей цепочки ДНК `caggatgtatatatctgacacgttaacctggagactagggagtaatccccaattggcggttaaaacgc`. \n",
    "\n",
    "Выведите символы в последовательности начиная с 10 по 20. \n",
    "\n",
    "Создайте новую последовательность путем утроения этого участка. (пример: из последовательности `tgcct` получится последовательность `tgccttgccttgcct`)\n",
    "\n",
    "Выведите результат в обратном порядке"
   ]
  },
  {
   "cell_type": "code",
   "execution_count": null,
   "metadata": {
    "id": "AvGy-axfR2px"
   },
   "outputs": [],
   "source": []
  },
  {
   "cell_type": "markdown",
   "metadata": {
    "id": "mCtj_VJurcNh"
   },
   "source": [
    "Найдите количество вхождения каждого нуклеотида в последовательность `tagagcttgctacgaccaattgagcggcctcggcaccgggattctcc`"
   ]
  },
  {
   "cell_type": "code",
   "execution_count": null,
   "metadata": {
    "colab": {
     "base_uri": "https://localhost:8080/"
    },
    "id": "ILNAHj0aR4qh",
    "outputId": "dc05b8b1-779d-4ade-ac45-050b688d04f6"
   },
   "outputs": [
    {
     "name": "stdout",
     "output_type": "stream",
     "text": [
      "10 t\n",
      "9 a\n",
      "13 g\n",
      "15 c\n"
     ]
    }
   ],
   "source": []
  },
  {
   "cell_type": "markdown",
   "metadata": {
    "id": "HpIPGWV7YRBV"
   },
   "source": [
    "Найдите сайты рестрикции Hpa I (`GTT|AAC`) в последовательности ДНК, не забудьте про комплементарную цепь ДНК. Выведите позиции по которым ДНК будет разрезана. Выведите получившиеся олигонуклеотиды после рестрикции."
   ]
  },
  {
   "cell_type": "code",
   "execution_count": null,
   "metadata": {
    "colab": {
     "base_uri": "https://localhost:8080/"
    },
    "id": "nJbT4fkyR67b",
    "outputId": "59ba9062-54ee-4074-8501-542eae00fb26"
   },
   "outputs": [
    {
     "name": "stdout",
     "output_type": "stream",
     "text": [
      "0\n",
      "2\n"
     ]
    }
   ],
   "source": []
  },
  {
   "cell_type": "code",
   "execution_count": null,
   "metadata": {
    "colab": {
     "base_uri": "https://localhost:8080/"
    },
    "id": "qF3lzFoEI8NU",
    "outputId": "a119a285-e55e-4220-d9cc-a182f4cf0a08"
   },
   "outputs": [
    {
     "name": "stdout",
     "output_type": "stream",
     "text": [
      "tagagcttgctacgaccaa\n",
      "ttgagcggcctcggcaccgggattctagcttgctacgaccaattgagcggcctcggcaccgcc\n"
     ]
    }
   ],
   "source": []
  },
  {
   "cell_type": "markdown",
   "metadata": {
    "id": "WFcMxLDOiHx_"
   },
   "source": [
    "Превратите строку с последовательностью в лист из отдельных букв.\n",
    "Перемешайте лист при помощи функции shuffle (from random import shuffle) \n",
    "Превратите ее назад в строку после перемешивания."
   ]
  },
  {
   "cell_type": "code",
   "execution_count": null,
   "metadata": {
    "id": "DR-E4juNR8wt"
   },
   "outputs": [],
   "source": []
  },
  {
   "cell_type": "code",
   "execution_count": null,
   "metadata": {
    "colab": {
     "base_uri": "https://localhost:8080/",
     "height": 35
    },
    "id": "vLaEGNb-Mz0t",
    "outputId": "b4e74414-68ed-4311-c1b6-c2d1a152be22"
   },
   "outputs": [
    {
     "data": {
      "application/vnd.google.colaboratory.intrinsic+json": {
       "type": "string"
      },
      "text/plain": [
       "'ggcgcgtagctccggagggacccgctacctggcctactgagctccgctaatcctatcgcacgtagtactgttagcaagacgc'"
      ]
     },
     "execution_count": 87,
     "metadata": {},
     "output_type": "execute_result"
    }
   ],
   "source": []
  },
  {
   "cell_type": "markdown",
   "metadata": {
    "id": "bUbMEI-toWkZ"
   },
   "source": [
    "Напишите программу, которая объединяет словари\n",
    "\n",
    "```\n",
    "dic1={1:10, 2:20}\n",
    "dic2={3:30, 4:40}\n",
    "dic3={5:50,6:60}\n",
    "\n",
    "Ожидаемый результат: {1: 10, 2: 20, 3: 30, 4: 40, 5: 50, 6: 60}\n",
    "```"
   ]
  },
  {
   "cell_type": "code",
   "execution_count": null,
   "metadata": {
    "id": "pwM0K8AWSAN3"
   },
   "outputs": [],
   "source": []
  },
  {
   "cell_type": "code",
   "execution_count": null,
   "metadata": {
    "colab": {
     "base_uri": "https://localhost:8080/"
    },
    "id": "klN67uLZO3uW",
    "outputId": "d2930246-5528-45d5-b8bf-1beb9c8ce544"
   },
   "outputs": [
    {
     "data": {
      "text/plain": [
       "{1: 10, 2: 20, 3: 30, 4: 40, 5: 50, 6: 60, 'jf': 'dhf'}"
      ]
     },
     "execution_count": 96,
     "metadata": {},
     "output_type": "execute_result"
    }
   ],
   "source": []
  },
  {
   "cell_type": "code",
   "execution_count": null,
   "metadata": {
    "id": "IzesEeZNPi2Y"
   },
   "outputs": [],
   "source": []
  },
  {
   "cell_type": "markdown",
   "metadata": {
    "id": "uGZ99eXqRZtS"
   },
   "source": [
    "## Условные операторы и операторы повтора"
   ]
  },
  {
   "cell_type": "markdown",
   "metadata": {
    "id": "Gnu6QqkGRjaJ"
   },
   "source": [
    "Найдите факториал числа 6, **не** успользуя пакет `math`"
   ]
  },
  {
   "cell_type": "code",
   "execution_count": null,
   "metadata": {
    "colab": {
     "base_uri": "https://localhost:8080/"
    },
    "id": "6o3mGHFCSB31",
    "outputId": "7d3f0c08-b085-4d51-fca4-07c615f95992"
   },
   "outputs": [
    {
     "name": "stdout",
     "output_type": "stream",
     "text": [
      "720\n"
     ]
    }
   ],
   "source": []
  },
  {
   "cell_type": "markdown",
   "metadata": {
    "id": "BZUnNYScmCRD"
   },
   "source": [
    "Напишите программу, которая удалит дубликаты из списка"
   ]
  },
  {
   "cell_type": "code",
   "execution_count": null,
   "metadata": {
    "id": "bj2evCuumEnz"
   },
   "outputs": [],
   "source": [
    "test_list=['Eeny', 'meeny', 'miney', 'moe', 'Catch', 'a', 'tiger', 'by', 'his', 'toe', 'If', 'he', 'squeals', 'let', 'him', 'go', 'Eeny', 'meeny', 'miney', 'moe']"
   ]
  },
  {
   "cell_type": "code",
   "execution_count": null,
   "metadata": {
    "colab": {
     "base_uri": "https://localhost:8080/"
    },
    "id": "c5iutLAmSELY",
    "outputId": "9563ba21-b8f7-4339-c4cf-0d38bef58d82"
   },
   "outputs": [
    {
     "data": {
      "text/plain": [
       "{'Catch',\n",
       " 'Eeny',\n",
       " 'If',\n",
       " 'a',\n",
       " 'by',\n",
       " 'go',\n",
       " 'he',\n",
       " 'him',\n",
       " 'his',\n",
       " 'let',\n",
       " 'meeny',\n",
       " 'miney',\n",
       " 'moe',\n",
       " 'squeals',\n",
       " 'tiger',\n",
       " 'toe'}"
      ]
     },
     "execution_count": 101,
     "metadata": {},
     "output_type": "execute_result"
    }
   ],
   "source": []
  },
  {
   "cell_type": "code",
   "execution_count": null,
   "metadata": {
    "id": "B55B6jYFS3dC"
   },
   "outputs": [],
   "source": []
  },
  {
   "cell_type": "code",
   "execution_count": null,
   "metadata": {
    "colab": {
     "base_uri": "https://localhost:8080/"
    },
    "id": "qYRZBl6eTrL5",
    "outputId": "4abf14f1-cc6a-4e95-e1e6-1e9b758cacc6"
   },
   "outputs": [
    {
     "data": {
      "text/plain": [
       "[]"
      ]
     },
     "execution_count": 108,
     "metadata": {},
     "output_type": "execute_result"
    }
   ],
   "source": [
    "s"
   ]
  },
  {
   "cell_type": "markdown",
   "metadata": {
    "id": "Pq0fbNCNm6XS"
   },
   "source": [
    "Напишите программу, которая найдет общие элементы из двух листов и запишет их в третий лист\n",
    "```\n",
    "lista=['Eeny', 'meeny', 'miney', 'moe', 'Catch', 'a', 'tiger', 'by', 'his']\n",
    "\n",
    "listb=['let', 'him', 'go', 'Eeny', 'meeny', 'miney', 'moe']\n",
    "```"
   ]
  },
  {
   "cell_type": "code",
   "execution_count": null,
   "metadata": {
    "id": "r501mRJ7m6CB"
   },
   "outputs": [],
   "source": []
  },
  {
   "cell_type": "markdown",
   "metadata": {
    "id": "_SkoZfvJormV"
   },
   "source": [
    "Имеется последовательность кодирующей цепочки ДНК `caggatgtatatatctgacacgttaacctggagactagggagtaatccccaattggcggttaaaacgc`. Найдите последовательность РНК, которая образуется в результате транскрипции. (ответ представьте в верхнем регистре)"
   ]
  },
  {
   "cell_type": "code",
   "execution_count": null,
   "metadata": {
    "id": "lCCkqB6lSHUf"
   },
   "outputs": [],
   "source": []
  },
  {
   "cell_type": "markdown",
   "metadata": {
    "id": "6d2sfxCqIol-"
   },
   "source": [
    "Подберите праймеры для ПЦР на последовательности, \n",
    "\n",
    "`caggatgtatatatctgacacgttaacctggagactagggagtaatccccaattggcggttaaaacgc`\n",
    "\n",
    "которые вырежут участок с 8 по 48 нуклеотид"
   ]
  },
  {
   "cell_type": "code",
   "execution_count": null,
   "metadata": {
    "id": "MLCiuKqE7xa7"
   },
   "outputs": [],
   "source": []
  },
  {
   "cell_type": "code",
   "execution_count": null,
   "metadata": {
    "colab": {
     "base_uri": "https://localhost:8080/",
     "height": 35
    },
    "id": "nBy_SkLgSItv",
    "outputId": "dad07188-b1ba-40cc-9e55-700a164a86c1"
   },
   "outputs": [
    {
     "data": {
      "application/vnd.google.colaboratory.intrinsic+json": {
       "type": "string"
      },
      "text/plain": [
       "'gtcctacatatatagactgtgcaattggacctctgatccctcattaggggttaaccgccaattttgcg'"
      ]
     },
     "execution_count": 1,
     "metadata": {},
     "output_type": "execute_result"
    }
   ],
   "source": [
    "seq = 'caggatgtatatatctgacacgttaacctggagactagggagtaatccccaattggcggttaaaacgc'\n",
    "comp_seq = ''\n",
    "for letter in seq:\n",
    "    if letter == 'c':\n",
    "        comp_seq = comp_seq + 'g'\n",
    "    elif letter == 'g':\n",
    "    comp_seq = comp_seq + 'c'\n",
    "    elif letter == 't':\n",
    "        comp_seq = comp_seq + 'a'\n",
    "    elif letter == 'a':\n",
    "        comp_seq = comp_seq + 't'\n",
    "    else:\n",
    "        comp_seq = comp_seq + 'x'\n",
    "\n",
    "comp_seq"
   ]
  },
  {
   "cell_type": "code",
   "execution_count": null,
   "metadata": {
    "colab": {
     "base_uri": "https://localhost:8080/",
     "height": 35
    },
    "id": "ihUFDuAG6lm1",
    "outputId": "6376e2d1-4591-4936-dcf9-c75d0d1242ab"
   },
   "outputs": [
    {
     "data": {
      "application/vnd.google.colaboratory.intrinsic+json": {
       "type": "string"
      },
      "text/plain": [
       "'gtcctacatatatagactgtgcaattggacctctgatccctcattaggggttaaccgccaattttgcg'"
      ]
     },
     "execution_count": 2,
     "metadata": {},
     "output_type": "execute_result"
    }
   ],
   "source": [
    "compl_dict={'a':'t', 't':'a','g':'c','c':'g'}\n",
    "seq = 'caggatgtatatatctgacacgttaacctggagactagggagtaatccccaattggcggttaaaacgc'\n",
    "comp_seq = ''\n",
    "for letter in seq:\n",
    "    comp_seq = comp_seq + compl_dict[ letter ]\n",
    "comp_seq"
   ]
  },
  {
   "cell_type": "markdown",
   "metadata": {
    "id": "ccosM8torL4g"
   },
   "source": [
    "Расчитайте число вхождений урацила в полученной последовательности РНК через цикл и через строковый метод"
   ]
  },
  {
   "cell_type": "code",
   "execution_count": null,
   "metadata": {
    "id": "njZhGtacSNtK"
   },
   "outputs": [],
   "source": []
  },
  {
   "cell_type": "markdown",
   "metadata": {
    "id": "z3hblEP6ye4z"
   },
   "source": [
    "Разбейте строку `Trypanosoma|XP_823266.1|canonical_H2B` по символу \"`|`\""
   ]
  },
  {
   "cell_type": "code",
   "execution_count": null,
   "metadata": {
    "id": "rM1KcA4Oy0xk"
   },
   "outputs": [],
   "source": []
  },
  {
   "cell_type": "markdown",
   "metadata": {
    "id": "9a1D8p84y1LV"
   },
   "source": [
    "Получите эту строку обратно *с ипользованием цикла* и *без использования цикла*"
   ]
  },
  {
   "cell_type": "code",
   "execution_count": null,
   "metadata": {
    "id": "DpF0cfXey_tU"
   },
   "outputs": [],
   "source": []
  },
  {
   "cell_type": "markdown",
   "metadata": {
    "id": "VZEJYMjUpJCQ"
   },
   "source": [
    "Сложите значения в словарях, согласно ключам\n",
    "\n",
    "```\n",
    "d1 = {'a': 100, 'b': 200, 'c':300}\n",
    "d2 = {'a': 300, 'b': 200, 'd':400}\n",
    "\n",
    "Ожидаемый результат: {'a': 400, 'b': 400, 'd': 400, 'c': 300}\n",
    "```\n"
   ]
  },
  {
   "cell_type": "code",
   "execution_count": null,
   "metadata": {
    "id": "1rguH-gcSPgR"
   },
   "outputs": [],
   "source": []
  },
  {
   "cell_type": "markdown",
   "metadata": {
    "id": "jxHxzn-ZqX9x"
   },
   "source": [
    "Выведите все четные числа из списка \n",
    "\n",
    "```\n",
    "numbers = [    \n",
    "    386, 462, 47, 418, 907, 344, 236, 375, 823, 566, 597, 978, 328, 615, 953, 345, \n",
    "    399, 162, 758, 219, 918, 237, 412, 566, 826, 248, 866, 950, 626, 949, 687, 217, \n",
    "    815, 67, 104, 58, 512, 24, 892, 894, 767, 553, 81, 379, 843, 831, 445, 742, 717, \n",
    "    958,743, 527\n",
    "    ]\n",
    "```\n",
    "\n",
    "в том же порядке, прекратите вывод, как только любое из чисел будет меньше 237"
   ]
  },
  {
   "cell_type": "code",
   "execution_count": null,
   "metadata": {
    "id": "-O1cjGp0SRS9"
   },
   "outputs": [],
   "source": []
  },
  {
   "cell_type": "markdown",
   "metadata": {
    "id": "nr43TepMqqRz"
   },
   "source": [
    "Напишите программу, которая выведет вам следующий узор при помощи символов *\n",
    "\n",
    "```\n",
    "* \n",
    "* * \n",
    "* * * \n",
    "* * * * \n",
    "* * * * * \n",
    "* * * * \n",
    "* * * \n",
    "* * \n",
    "*\n",
    "```"
   ]
  },
  {
   "cell_type": "code",
   "execution_count": null,
   "metadata": {
    "id": "RH9mZGAsSTLA"
   },
   "outputs": [],
   "source": []
  },
  {
   "cell_type": "markdown",
   "metadata": {
    "id": "uf4uZpT4q0LT"
   },
   "source": [
    "Напишите программу, которая выведет таблицу пифагора вида, бонусные очки, если вы изобразите разделительные линии между множителями и произведением\n",
    "\n",
    "```\n",
    "1\t2\t3\t4\t5\t6\t7\t8\t9\t10\n",
    "2\t4\t6\t8\t10\t12\t14\t16\t18\t20\n",
    "3\t6\t9\t12\t15\t18\t21\t24\t27\t30\n",
    "4\t8\t12\t16\t20\t24\t28\t32\t36\t40\n",
    "5\t10\t15\t20\t25\t30\t35\t40\t45\t50\n",
    "6\t12\t18\t24\t30\t36\t42\t48\t54\t60\n",
    "7\t14\t21\t28\t35\t42\t49\t56\t63\t70\n",
    "8\t16\t24\t32\t40\t48\t56\t64\t72\t80\n",
    "9\t18\t27\t36\t45\t54\t63\t72\t81\t90\n",
    "10\t20\t30\t40\t50\t60\t70\t80\t90\t100\n",
    "```"
   ]
  },
  {
   "cell_type": "code",
   "execution_count": 3,
   "metadata": {},
   "outputs": [],
   "source": [
    "test_dict = {'abc':10, 'lol':'Vasya', 5:'2'}\n",
    "test_dict_2 = {'abc':85, 'lol':'324', 5:123}"
   ]
  },
  {
   "cell_type": "code",
   "execution_count": 5,
   "metadata": {},
   "outputs": [
    {
     "name": "stdout",
     "output_type": "stream",
     "text": [
      "abc 85\n",
      "lol 324\n",
      "5 123\n"
     ]
    }
   ],
   "source": [
    "for temp in test_dict.keys():\n",
    "    print(temp, test_dict_2[temp] )"
   ]
  },
  {
   "cell_type": "code",
   "execution_count": 6,
   "metadata": {},
   "outputs": [
    {
     "name": "stdout",
     "output_type": "stream",
     "text": [
      "10\n",
      "Vasya\n",
      "2\n"
     ]
    }
   ],
   "source": [
    "for temp in test_dict.values():\n",
    "    print(temp)"
   ]
  },
  {
   "cell_type": "code",
   "execution_count": 19,
   "metadata": {},
   "outputs": [
    {
     "name": "stdout",
     "output_type": "stream",
     "text": [
      "('abc', 10)\n",
      "('lol', 'Vasya')\n",
      "(5, '2')\n"
     ]
    }
   ],
   "source": [
    "for temp in test_dict.items():\n",
    "    print(temp)"
   ]
  },
  {
   "cell_type": "code",
   "execution_count": 16,
   "metadata": {},
   "outputs": [],
   "source": [
    "test_list = [5,'abc']"
   ]
  },
  {
   "cell_type": "code",
   "execution_count": 17,
   "metadata": {},
   "outputs": [
    {
     "name": "stdout",
     "output_type": "stream",
     "text": [
      "abc 10\n",
      "5 2\n"
     ]
    }
   ],
   "source": [
    "for temp_key, temp_val in test_dict.items():\n",
    "    if temp_key in test_list:\n",
    "        print(temp_key,temp_val)"
   ]
  },
  {
   "cell_type": "code",
   "execution_count": 20,
   "metadata": {},
   "outputs": [],
   "source": [
    "temp_list1 = [5,6,7,8]\n",
    "temp_list2 = ['a','V','d','z']"
   ]
  },
  {
   "cell_type": "code",
   "execution_count": 22,
   "metadata": {},
   "outputs": [
    {
     "name": "stdout",
     "output_type": "stream",
     "text": [
      "0 5 a\n",
      "1 6 V\n",
      "2 7 d\n",
      "3 8 z\n"
     ]
    }
   ],
   "source": [
    "for i in range( len( temp_list1 ) ):\n",
    "    print( i, temp_list1[i], temp_list2[i] )\n",
    "    "
   ]
  },
  {
   "cell_type": "code",
   "execution_count": 28,
   "metadata": {},
   "outputs": [
    {
     "data": {
      "text/plain": [
       "[3, 6, 9]"
      ]
     },
     "execution_count": 28,
     "metadata": {},
     "output_type": "execute_result"
    }
   ],
   "source": [
    "list( range(3,10,3) )"
   ]
  },
  {
   "cell_type": "code",
   "execution_count": 29,
   "metadata": {},
   "outputs": [
    {
     "name": "stdout",
     "output_type": "stream",
     "text": [
      "5 a\n",
      "6 V\n",
      "7 d\n",
      "8 z\n"
     ]
    }
   ],
   "source": [
    "for item1,item2 in zip(temp_list1,temp_list2):\n",
    "    print( item1, item2 )"
   ]
  },
  {
   "cell_type": "code",
   "execution_count": 31,
   "metadata": {},
   "outputs": [
    {
     "data": {
      "text/plain": [
       "{5: 'a', 6: 'V', 7: 'd', 8: 'z'}"
      ]
     },
     "execution_count": 31,
     "metadata": {},
     "output_type": "execute_result"
    }
   ],
   "source": [
    "dict( zip(temp_list1,temp_list2) )"
   ]
  },
  {
   "cell_type": "code",
   "execution_count": 33,
   "metadata": {},
   "outputs": [
    {
     "name": "stdout",
     "output_type": "stream",
     "text": [
      "0 5\n",
      "1 6\n",
      "2 7\n",
      "3 8\n"
     ]
    }
   ],
   "source": [
    "for i,value in enumerate( temp_list1 ):\n",
    "    print( i, value )\n",
    "    "
   ]
  },
  {
   "cell_type": "code",
   "execution_count": 36,
   "metadata": {},
   "outputs": [
    {
     "data": {
      "text/plain": [
       "5"
      ]
     },
     "execution_count": 36,
     "metadata": {},
     "output_type": "execute_result"
    }
   ],
   "source": [
    "temp_list1.__getitem__(0)"
   ]
  },
  {
   "cell_type": "code",
   "execution_count": 35,
   "metadata": {},
   "outputs": [
    {
     "name": "stdout",
     "output_type": "stream",
     "text": [
      "1 2 3\n"
     ]
    }
   ],
   "source": [
    "print( 1,2,3 )"
   ]
  },
  {
   "cell_type": "code",
   "execution_count": 34,
   "metadata": {},
   "outputs": [
    {
     "name": "stdout",
     "output_type": "stream",
     "text": [
      "(1, 2, 3)\n"
     ]
    }
   ],
   "source": [
    "print( (1,2,3) )"
   ]
  }
 ],
 "metadata": {
  "colab": {
   "provenance": []
  },
  "kernelspec": {
   "display_name": "Python 3 (ipykernel)",
   "language": "python",
   "name": "python3"
  },
  "language_info": {
   "codemirror_mode": {
    "name": "ipython",
    "version": 3
   },
   "file_extension": ".py",
   "mimetype": "text/x-python",
   "name": "python",
   "nbconvert_exporter": "python",
   "pygments_lexer": "ipython3",
   "version": "3.10.8"
  }
 },
 "nbformat": 4,
 "nbformat_minor": 4
}
